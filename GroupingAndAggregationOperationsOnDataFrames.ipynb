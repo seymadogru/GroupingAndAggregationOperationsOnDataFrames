{
 "cells": [
  {
   "cell_type": "markdown",
   "id": "46920f36",
   "metadata": {},
   "source": [
    "For Pandas assignments, you are going to use Titanic (train.csv) dataset. Download the dataset and load to a data frame.\n",
    "\n",
    "(1) Calculate the average age of the passengers for each gender and passenger class by using groupby() method."
   ]
  },
  {
   "cell_type": "code",
   "execution_count": 2,
   "id": "c5e3c4db",
   "metadata": {},
   "outputs": [
    {
     "data": {
      "text/plain": [
       "Sex     Pclass\n",
       "female  1         34.611765\n",
       "        2         28.722973\n",
       "        3         21.750000\n",
       "male    1         41.281386\n",
       "        2         30.740707\n",
       "        3         26.507589\n",
       "Name: Age, dtype: float64"
      ]
     },
     "execution_count": 2,
     "metadata": {},
     "output_type": "execute_result"
    }
   ],
   "source": [
    "import pandas as pd\n",
    "import numpy as np\n",
    "\n",
    "myDataFile= 'train.csv'\n",
    "myData = pd.read_csv(myDataFile)\n",
    "myDataFrame = pd.DataFrame(myData)\n",
    "\n",
    "SexAndPClass = myDataFrame.groupby(by=[\"Sex\",\"Pclass\"])['Age'].mean()\n",
    "SexAndPClass"
   ]
  },
  {
   "cell_type": "markdown",
   "id": "abdc2c34",
   "metadata": {},
   "source": [
    "Group by embarkation port and print values. (Notice that you get unique values with this.)"
   ]
  },
  {
   "cell_type": "code",
   "execution_count": 3,
   "id": "fd2436b5",
   "metadata": {},
   "outputs": [
    {
     "name": "stdout",
     "output_type": "stream",
     "text": [
      "C\n",
      "Q\n",
      "S\n"
     ]
    }
   ],
   "source": [
    "for group_name , group in myDataFrame.groupby(by=\"Embarked\"):\n",
    "  print(group_name)"
   ]
  },
  {
   "cell_type": "code",
   "execution_count": null,
   "id": "b3ae68bd",
   "metadata": {},
   "outputs": [],
   "source": []
  }
 ],
 "metadata": {
  "kernelspec": {
   "display_name": "Python 3",
   "language": "python",
   "name": "python3"
  },
  "language_info": {
   "codemirror_mode": {
    "name": "ipython",
    "version": 3
   },
   "file_extension": ".py",
   "mimetype": "text/x-python",
   "name": "python",
   "nbconvert_exporter": "python",
   "pygments_lexer": "ipython3",
   "version": "3.8.8"
  }
 },
 "nbformat": 4,
 "nbformat_minor": 5
}
